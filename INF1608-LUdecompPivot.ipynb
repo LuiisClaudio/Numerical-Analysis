{
 "cells": [
  {
   "cell_type": "code",
   "execution_count": 3,
   "metadata": {
    "collapsed": false
   },
   "outputs": [
    {
     "name": "stdout",
     "output_type": "stream",
     "text": [
      "[[ 1. -1.  1. -1.]\n",
      " [ 1.  1. -1.  1.]\n",
      " [ 1.  2.  2.  0.]\n",
      " [ 1.  3.  3.  6.]]\n",
      "[ 0.  0.  0.  6.]\n",
      "[ 0. -1.  0.  1.]\n",
      "[[ 1.  0.  0.  0.]\n",
      " [ 1.  1.  0.  0.]\n",
      " [ 1.  2.  1.  0.]\n",
      " [ 1.  3.  3.  1.]]\n",
      "[[ 1. -1.  1. -1.]\n",
      " [ 0.  1. -1.  1.]\n",
      " [ 0.  0.  2.  0.]\n",
      " [ 0.  0.  0.  6.]]\n",
      "[[ 1. -1.  1. -1.]\n",
      " [ 1.  0.  0.  0.]\n",
      " [ 1.  1.  1.  1.]\n",
      " [ 1.  2.  4.  8.]]\n",
      "[[ 0.  0.  0.  6.]]\n",
      "12.0\n",
      "12.0\n",
      "[[ -2.77555756e-17   1.00000000e+00   0.00000000e+00   0.00000000e+00]\n",
      " [ -3.33333333e-01  -5.00000000e-01   1.00000000e+00  -1.66666667e-01]\n",
      " [  5.00000000e-01  -1.00000000e+00   5.00000000e-01   0.00000000e+00]\n",
      " [ -1.66666667e-01   5.00000000e-01  -5.00000000e-01   1.66666667e-01]]\n",
      "[[  1.00000000e+00   0.00000000e+00   0.00000000e+00   0.00000000e+00]\n",
      " [ -2.77555756e-17   1.00000000e+00   0.00000000e+00   0.00000000e+00]\n",
      " [  0.00000000e+00   0.00000000e+00   1.00000000e+00   0.00000000e+00]\n",
      " [  0.00000000e+00   0.00000000e+00   0.00000000e+00   1.00000000e+00]]\n"
     ]
    }
   ],
   "source": [
    "#Luis Claudio \n",
    "import numpy as np\n",
    "\n",
    "def LUdecomp(A):\n",
    "    LU = np.copy(A)\n",
    "    n  = len(A)\n",
    "    for j in range(n-1):\n",
    "        for i in range(j+1,n):\n",
    "            LU[i][j] = LU[i][j]/LU[j][j]\n",
    "            for k in range(j+1,n):\n",
    "                LU[i][k] = LU[i][k] - LU[i][j]*LU[j][k]\n",
    "    return LU\n",
    "\n",
    "def LUforwardsub (L,b):\n",
    "    n = len(L)\n",
    "    y = np.zeros(n)\n",
    "    y[0] = b[0]\n",
    "    for i in range(1,n):\n",
    "        y[i] = b[i]\n",
    "        for j in range(i):\n",
    "            y[i] = y[i] - L[i][j]*y[j]\n",
    "    return y\n",
    "            \n",
    "def LUbackwardsub (U,y):\n",
    "    n = len(U)\n",
    "    x = np.zeros(n)\n",
    "    x[n-1] = y[n-1]/U[n-1][n-1]\n",
    "    for i in range(n-2,-1,-1):\n",
    "        x[i] = y[i]\n",
    "        for j in range(i+1,n):\n",
    "            x[i] = x[i] - U[i][j]*x[j]\n",
    "        x[i] /= U[i][i]\n",
    "    return x\n",
    "    \n",
    "def LUsolve(LU,b):\n",
    "    y = LUforwardsub(LU,b)\n",
    "    x = LUbackwardsub(LU,y)\n",
    "    return x\n",
    "  \n",
    "def LUgetL(LU):\n",
    "    L  = np.copy(LU)\n",
    "    n  = len(LU)\n",
    "    for i in range(0,n):\n",
    "        L[i,i] = 1.0\n",
    "        for j in range(i+1,n):\n",
    "            L[i][j] = 0.0\n",
    "    return L\n",
    "    \n",
    "def LUgetU(LU):\n",
    "    U  = np.copy(LU)\n",
    "    n  = len(LU)\n",
    "    for i in range(1,n):\n",
    "        for j in range(0,i):\n",
    "            U[i][j] = 0.0\n",
    "    return U\n",
    "    \n",
    "def LUinverse(LU):\n",
    "    n = len(LU)\n",
    "    e = np.zeros(n)\n",
    "    I = np.zeros((n,n))\n",
    "    for j in range(n):\n",
    "        e[j] = 1.0\n",
    "        x = LUsolve(LU,e)\n",
    "        for i in range(n):\n",
    "            I[i][j] = x[i]\n",
    "        e[j] = 0.0\n",
    "    return I\n",
    "\n",
    "def LUdet(LU):\n",
    "    n = len(LU)\n",
    "    det = 1.0\n",
    "    for i in range(n):\n",
    "        det = det * LU[i][i]\n",
    "    return det\n",
    "\n",
    "A = np.matrix([[1.0,-1.0,1.0,-1.0],[1.0,0.0,0.0,0.0],[1.0,1.0,1.0,1.0],[1.0,2.0,4.0,8.0]])\n",
    "LU = LUdecomp(A)\n",
    "print(LU)\n",
    "b = np.array([0.0,0.0,0.0,6.0])\n",
    "print(b)\n",
    "x = LUsolve(LU,b)\n",
    "print(x)\n",
    "\n",
    "L = LUgetL(LU)\n",
    "print(L)\n",
    "U = LUgetU(LU)\n",
    "print(U)\n",
    "print(np.dot(L,U))\n",
    "\n",
    "print(np.dot(A,x))\n",
    "\n",
    "print(LUdet(LU))\n",
    "print(np.linalg.det(A))\n",
    "\n",
    "IA = LUinverse(LU)\n",
    "print(IA)\n",
    "print(np.dot(A,IA))\n"
   ]
  },
  {
   "cell_type": "code",
   "execution_count": 2,
   "metadata": {
    "collapsed": false
   },
   "outputs": [
    {
     "name": "stdout",
     "output_type": "stream",
     "text": [
      "[[   1.    1.    1.    1.    1.]\n",
      " [   1.    2.    4.    8.   16.]\n",
      " [   1.    3.    9.   27.   81.]\n",
      " [   1.    4.   16.   64.  256.]\n",
      " [   1.    5.   25.  125.  625.]]\n",
      "[ -73.          146.25        -91.04166667   22.75         -1.95833333]\n",
      "2.01948391737e-26\n"
     ]
    },
    {
     "data": {
      "image/png": "[encoded data removed]",
      "text/plain": [
       "<matplotlib.figure.Figure at 0x1113b3f50>"
      ]
     },
     "metadata": {},
     "output_type": "display_data"
    }
   ],
   "source": [
    "import numpy as np\n",
    "import matplotlib.pyplot as plt\n",
    "\n",
    "%matplotlib inline\n",
    "\n",
    "def evalp(x,c):\n",
    "    d = len(c)-1\n",
    "    p = c[0]\n",
    "    xp = 1.0\n",
    "    for i in range(d):\n",
    "        xp *= x\n",
    "        p += c[i+1]*xp\n",
    "    return p\n",
    "\n",
    "def buildVmatrix(x):\n",
    "    d = len(x)-1\n",
    "    V = np.zeros((len(x),d+1))\n",
    "    for i in range(len(x)):\n",
    "        for j in range(d+1):\n",
    "            V[i][j] = x[i]**j\n",
    "    return V\n",
    "\n",
    "def PolynomialInterpolation(x,y):\n",
    "    V = buildVmatrix(x)\n",
    "    c = np.linalg.solve(V,np.array(y))\n",
    "    return c\n",
    "\n",
    "def drawPolynomial(x,y,c,N,xmin,xmax):\n",
    "    delta = (xmax-xmin)/(N-1.0)\n",
    "    px = np.zeros(N)\n",
    "    py = np.zeros(N)\n",
    "    for i in range(N):\n",
    "        xp = xmin + i*delta\n",
    "        px[i] = xp\n",
    "        py[i] = evalp(xp,c)\n",
    "    plt.scatter(x,y)\n",
    "    plt.plot(px,py)\n",
    "    deltax = xmax - xmin\n",
    "    plt.xlim(xmin-0.2*deltax, xmax+0.2*deltax)\n",
    "    ymin = min([min(y),min(py)])\n",
    "    ymax = max([max(y),max(py)])\n",
    "    deltay = (ymax-ymin)\n",
    "    plt.ylim(ymin-0.5*deltay,ymax+0.5*deltay)\n",
    "    plt.show()\n",
    "\n",
    "x = [1.0,2.0,3.0,4.0,5.0]\n",
    "y = [3.0,6.0,2.0,10.0,2.0] \n",
    "d = 4\n",
    "\n",
    "A = buildVmatrix(x)\n",
    "print(A)\n",
    "\n",
    "c = PolynomialInterpolation(x,y)\n",
    "print(c)\n",
    "\n",
    "erro = np.linalg.norm(A.dot(c)-y)**2\n",
    "print(erro)\n",
    "\n",
    "\n",
    "drawPolynomial(x,y,c,100,min(x),max(x))"
   ]
  },
  {
   "cell_type": "code",
   "execution_count": 3,
   "metadata": {
    "collapsed": true
   },
   "outputs": [],
   "source": [
    "def LUdecompP(A):\n",
    "    LU = np.copy(A)\n",
    "    n  = len(A)\n",
    "    sinal = 1.\n",
    "    p = range(n)\n",
    "    for j in range(n-1):\n",
    "        maior = j\n",
    "        t = abs(LU[j][j])\n",
    "        for i in range(j+1,n):\n",
    "            s = abs(LU[i][j])\n",
    "            if s > t:\n",
    "                t = s\n",
    "                maior = i\n",
    "        if j != maior:\n",
    "            sinal *= -1\n",
    "            itmp = p[j]\n",
    "            p[j] = p[maior]\n",
    "            p[maior] = itmp\n",
    "            for k in range(n):\n",
    "                dtmp = LU[maior][k]\n",
    "                LU[maior][k] = LU[j][k]\n",
    "                LU[j][k] = dtmp\n",
    "        for i in range(j+1,n):        \n",
    "            LU[i][j] = LU[i][j]/LU[j][j]\n",
    "            for k in range(j+1,n):\n",
    "                LU[i][k] = LU[i][k] - LU[i][j]*LU[j][k]\n",
    "    return LU, p, sinal"
   ]
  },
  {
   "cell_type": "code",
   "execution_count": 4,
   "metadata": {
    "collapsed": false
   },
   "outputs": [
    {
     "name": "stdout",
     "output_type": "stream",
     "text": [
      "[[ 1. -1.  1. -1.]\n",
      " [ 1.  0.  0.  0.]\n",
      " [ 1.  1.  1.  1.]\n",
      " [ 1.  2.  4.  8.]]\n"
     ]
    }
   ],
   "source": [
    "Ap = np.matrix([[1.0,-1.0,1.0,-1.0],[1.0,0.0,0.0,0.0],[1.0,1.0,1.0,1.0],[1.0,2.0,4.0,8.0]])\n",
    "\n",
    "\n",
    "LUp, p, sinal =  LUdecompP(Ap)\n",
    "print Ap"
   ]
  },
  {
   "cell_type": "code",
   "execution_count": 44,
   "metadata": {
    "collapsed": true
   },
   "outputs": [],
   "source": [
    "def LUforwardsubP (L,b, p):\n",
    "    n = len(L)\n",
    "    y = np.zeros(n)\n",
    "    y[0] = b[p[0]]\n",
    "    for i in range(1,n):\n",
    "        y[i] = b[p[i]]\n",
    "        for j in range(i):\n",
    "            y[i] = y[i] - L[i][j]*y[j]\n",
    "    return y\n",
    "def LUdetp(LU, sinal):\n",
    "    n = len(LU)\n",
    "    det = 1.0\n",
    "    for i in range(n):\n",
    "        det = det * LU[i][i]\n",
    "    return det*sinal"
   ]
  },
  {
   "cell_type": "code",
   "execution_count": 35,
   "metadata": {
    "collapsed": false
   },
   "outputs": [
    {
     "name": "stdout",
     "output_type": "stream",
     "text": [
      "[[ 1.         -1.          1.         -1.        ]\n",
      " [ 1.          3.          3.          9.        ]\n",
      " [ 1.          0.66666667 -2.         -4.        ]\n",
      " [ 1.          0.33333333  1.          2.        ]]\n",
      "\n",
      "[0, 3, 2, 1]\n",
      "\n"
     ]
    },
    {
     "data": {
      "text/plain": [
       "array([ 0.,  6., -4.,  2.])"
      ]
     },
     "execution_count": 35,
     "metadata": {},
     "output_type": "execute_result"
    }
   ],
   "source": [
    "print LUp\n",
    "print\n",
    "print p\n",
    "print\n",
    "LUforwardsubP(LUgetL(LUp), b, p)"
   ]
  },
  {
   "cell_type": "code",
   "execution_count": 40,
   "metadata": {
    "collapsed": false
   },
   "outputs": [],
   "source": [
    "Lp =LUgetL(LUp)"
   ]
  },
  {
   "cell_type": "code",
   "execution_count": 41,
   "metadata": {
    "collapsed": false
   },
   "outputs": [],
   "source": [
    "Up = LUgetU(LUp)"
   ]
  },
  {
   "cell_type": "code",
   "execution_count": 42,
   "metadata": {
    "collapsed": false
   },
   "outputs": [
    {
     "data": {
      "text/plain": [
       "array([[ 1., -1.,  1., -1.],\n",
       "       [ 1.,  2.,  4.,  8.],\n",
       "       [ 1.,  1.,  1.,  1.],\n",
       "       [ 1.,  0.,  0.,  0.]])"
      ]
     },
     "execution_count": 42,
     "metadata": {},
     "output_type": "execute_result"
    }
   ],
   "source": [
    "np.dot(Lp,Up)"
   ]
  },
  {
   "cell_type": "code",
   "execution_count": 46,
   "metadata": {
    "collapsed": false
   },
   "outputs": [
    {
     "data": {
      "text/plain": [
       "12.0"
      ]
     },
     "execution_count": 46,
     "metadata": {},
     "output_type": "execute_result"
    }
   ],
   "source": [
    "LUdetp(LUp,sinal)"
   ]
  },
  {
   "cell_type": "code",
   "execution_count": null,
   "metadata": {
    "collapsed": true
   },
   "outputs": [],
   "source": []
  }
 ],
 "metadata": {
  "kernelspec": {
   "display_name": "Python 2",
   "language": "python",
   "name": "python2"
  },
  "language_info": {
   "codemirror_mode": {
    "name": "ipython",
    "version": 2
   },
   "file_extension": ".py",
   "mimetype": "text/x-python",
   "name": "python",
   "nbconvert_exporter": "python",
   "pygments_lexer": "ipython2",
   "version": "2.7.13"
  }
 },
 "nbformat": 4,
 "nbformat_minor": 0
}
