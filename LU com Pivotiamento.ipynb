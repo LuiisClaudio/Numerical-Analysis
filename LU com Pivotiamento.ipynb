{
 "cells": [
  {
   "cell_type": "code",
   "execution_count": 30,
   "metadata": {
    "collapsed": false
   },
   "outputs": [],
   "source": [
    "import numpy as np\n",
    "def LUdecomp(A):\n",
    "    n = len(A)\n",
    "    U = np.copy(A)\n",
    "    L = np.eye(n)\n",
    "    for j in range(n-1):\n",
    "        for i in range(j+1,n):\n",
    "            L[i][j] = U[i][j]/U[j][j] \n",
    "            for k in range(j+1,n):\n",
    "                U[i][k] = U[i][k] - L[i][j]*U[j][k]\n",
    "    return U,L"
   ]
  },
  {
   "cell_type": "code",
   "execution_count": 31,
   "metadata": {
    "collapsed": false
   },
   "outputs": [
    {
     "name": "stdout",
     "output_type": "stream",
     "text": [
      "[[ 1.  0.  0.]\n",
      " [ 2.  1.  0.]\n",
      " [ 4.  2.  1.]]\n",
      "[[ 1  1  1]\n",
      " [ 2  1  3]\n",
      " [ 4  2 -2]]\n"
     ]
    }
   ],
   "source": [
    "A = [[1,1,1],[2,3,5], [4,6,8]]\n",
    "U, L = LUdecomp(A)\n",
    "print L\n",
    "print U"
   ]
  },
  {
   "cell_type": "code",
   "execution_count": 68,
   "metadata": {
    "collapsed": true
   },
   "outputs": [],
   "source": [
    "def LUdecomp(A):\n",
    "    LU=np.copy(A)\n",
    "    n =len(A)\n",
    "    sign = 1.0\n",
    "    p = range(n)\n",
    "    for j in range(n-1):\n",
    "        maxi = j\n",
    "        c = abs(LU[j][j])\n",
    "        for i in range(j+1,n):\n",
    "            c1 = abs(LU[i][j])\n",
    "            if (c1 > c):\n",
    "                c = c1\n",
    "                maxi = i\n",
    "        if (j != maxi):\n",
    "            sign *= -1.0\n",
    "            itmp = p[j]\n",
    "            p[j] = p[maxi]\n",
    "            p[maxi] = itmp\n",
    "            for k in range(n):\n",
    "                dtmp = LU[maxi][k]\n",
    "                LU[maxi][k] = LU[j][k]\n",
    "                LU[j][k] = dtmp\n",
    "        for i in range(j+1,n):\n",
    "            LU[i][j] = LU[i][j]/LU[j][j]\n",
    "            for k in range(j+1,n):\n",
    "                LU[i][k] = LU[i][k] - LU[i][j]*LU[j][k]\n",
    "    return LU,p,sign"
   ]
  },
  {
   "cell_type": "code",
   "execution_count": 69,
   "metadata": {
    "collapsed": false
   },
   "outputs": [
    {
     "name": "stdout",
     "output_type": "stream",
     "text": [
      "[[ 8.          7.          9.          5.        ]\n",
      " [ 0.75        1.75        2.25        4.25      ]\n",
      " [ 0.5        -0.28571429 -0.85714286 -0.28571429]\n",
      " [ 0.25       -0.42857143  0.33333333  0.66666667]]\n"
     ]
    }
   ],
   "source": [
    "A = np.matrix([[2.0,1.0,1.0,0.0],[4.0,3.0,3.0,1.0],[8.0,7.0,9.0,5.0],[6.0,7.0,9.0,8.0]])\n",
    "LU, p, s = LUdecompPivot(A)\n",
    "print LU"
   ]
  },
  {
   "cell_type": "code",
   "execution_count": 70,
   "metadata": {
    "collapsed": true
   },
   "outputs": [],
   "source": [
    "def LUgetL(LU):\n",
    "    L  = np.copy(LU)\n",
    "    n  = len(LU)\n",
    "    for i in range(0,n):\n",
    "        L[i,i] = 1.0\n",
    "        for j in range(i+1,n):\n",
    "            L[i][j] = 0.0\n",
    "    return L\n",
    "    \n",
    "def LUgetU(LU):\n",
    "    U  = np.copy(LU)\n",
    "    n  = len(LU)\n",
    "    for i in range(1,n):\n",
    "        for j in range(0,i):\n",
    "            U[i][j] = 0.0\n",
    "    return U"
   ]
  },
  {
   "cell_type": "code",
   "execution_count": 71,
   "metadata": {
    "collapsed": false
   },
   "outputs": [
    {
     "name": "stdout",
     "output_type": "stream",
     "text": [
      "[[ 8.  7.  9.  5.]\n",
      " [ 6.  7.  9.  8.]\n",
      " [ 4.  3.  3.  1.]\n",
      " [ 2.  1.  1.  0.]]\n",
      "\n",
      "[[ 2.  1.  1.  0.]\n",
      " [ 4.  3.  3.  1.]\n",
      " [ 8.  7.  9.  5.]\n",
      " [ 6.  7.  9.  8.]]\n"
     ]
    }
   ],
   "source": [
    "L = LUgetL(LU)\n",
    "U = LUgetU(LU)\n",
    "#print L\n",
    "#print U\n",
    "print np.dot(L,U)\n",
    "print\n",
    "print A"
   ]
  },
  {
   "cell_type": "code",
   "execution_count": null,
   "metadata": {
    "collapsed": true
   },
   "outputs": [],
   "source": [
    "def LUforwardsub (L,b, p):\n",
    "    n = len(L)\n",
    "    y = np.zeros(n)\n",
    "    y[0] = b[p[0]]\n",
    "    for i in range(1,n):\n",
    "        y[i] = b[p[i]]\n",
    "        for j in range(i):\n",
    "            y[i] = y[i] - L[i][j]*y[j]\n",
    "    return y"
   ]
  }
 ],
 "metadata": {
  "kernelspec": {
   "display_name": "Python 2",
   "language": "python",
   "name": "python2"
  },
  "language_info": {
   "codemirror_mode": {
    "name": "ipython",
    "version": 2
   },
   "file_extension": ".py",
   "mimetype": "text/x-python",
   "name": "python",
   "nbconvert_exporter": "python",
   "pygments_lexer": "ipython2",
   "version": "2.7.13"
  }
 },
 "nbformat": 4,
 "nbformat_minor": 2
}
