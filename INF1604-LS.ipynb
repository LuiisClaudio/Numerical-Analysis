{
 "cells": [
  {
   "cell_type": "markdown",
   "metadata": {},
   "source": [
    "## INF2031 - Algebra Linear - 2016.2\n",
    "## Departamento de Informática - PUC-Rio \n",
    "## Prof. Hélio Lopes - lopes@inf.puc-rio.br\n",
    "## http://www.inf.puc-rio.br/~lopes\n",
    "\n",
    "\n",
    "\n",
    "## Minimos quadrados\n",
    "\n",
    "1) Considerando o método de mínimos quadrados para determinarmos o polinômio de grau d que ajusta um conjunto de pontos {(x[i],y[i]), i = 0..(N-1)}, faça: \n",
    "\n",
    "1a) Escreva uma função buildLSmatrix que monta a matriz A de tamanho Nx(d+1) e cujos elementos A[i,j] são dados por A[i,j] = (x[i])**j. Essa função recebe como parâmetros: o vetor x e o grau d do polinomio de ajuste.\n",
    "\n",
    "1b) Escreva uma segunda função que retorne os coeficientes do polinomio de grau d que melhor ajusta o conjunto de pontos. Essa função recebe como parâmetros: o vetor x, o vetor y e o grau do polinomio de ajuste, e retorna o vetor c\n",
    "que é a solução da equação normal (At A c = At y), onde At é a matriz transposta de A.\n",
    "\n",
    "1c) Faça uma função evalp que retorna o valor de polinomio de grau d com os coeficientes dados pelo vetor c no ponto x. Essa função retornará o seguinte valor:  c_0 + c_1 * x + ... + c[d] * x**d.\n",
    "\n",
    "1d) Como você mediria o erro quadrático da __aproximação__ pelo método de mínimos quadrados?\n",
    "\n",
    "1e) Considere que:\n",
    "x = [1.0,2.0,3.0,4.0,5.0]\n",
    "y = [3.0,6.0,2.0,10.0,2.0] \n",
    "Qual foi o erro quadrático da aproximação por um polinômio de grau 1 ? E para um de grau 2? E um de grau 3?\n"
   ]
  },
  {
   "cell_type": "code",
   "execution_count": 10,
   "metadata": {
    "collapsed": false
   },
   "outputs": [
    {
     "name": "stdout",
     "output_type": "stream",
     "text": [
      "[[   1.    1.    1.    1.    1.]\n",
      " [   1.    2.    4.    8.   16.]\n",
      " [   1.    3.    9.   27.   81.]\n",
      " [   1.    4.   16.   64.  256.]\n",
      " [   1.    5.   25.  125.  625.]]\n",
      "Esse sao os coefientes:\n",
      "(x, f(X))\n",
      "(0, -72.999999999836632)\n",
      "(5, 146.24999999969893)\n",
      "(10, -91.041666666487373)\n",
      "(15, 22.749999999957407)\n",
      "(20, -1.9583333333298383)\n",
      "('Erro da minha aproximacao:', 1.0696883192859812e-22)\n",
      "1.06968831929e-22\n"
     ]
    },
    {
     "data": {
      "image/png": "[encoded data removed]",
      "text/plain": [
       "<matplotlib.figure.Figure at 0x10c6fe6d0>"
      ]
     },
     "metadata": {},
     "output_type": "display_data"
    }
   ],
   "source": [
    "import numpy as np\n",
    "import matplotlib.pyplot as plt\n",
    "\n",
    "%matplotlib inline\n",
    "\n",
    "def evalp(x,c):\n",
    "    d = len(c)-1\n",
    "    p = c[0]\n",
    "    xp = 1.0\n",
    "    for i in range(d):\n",
    "        xp *= x\n",
    "        p += c[i+1]*xp\n",
    "    return p\n",
    "\n",
    "def buildLSmatrix(x,d):\n",
    "    A = np.zeros((len(x),d+1))\n",
    "    for i in range(len(x)):\n",
    "        for j in range(d+1):\n",
    "            A[i,j] = x[i]**j\n",
    "    return A\n",
    "\n",
    "def LeastSquares(x,y,d):\n",
    "    A = buildLSmatrix(x,d)\n",
    "    AtA = np.transpose(A).dot(A)\n",
    "    Aty = np.transpose(A).dot(y)\n",
    "    c = np.linalg.solve(AtA,Aty)\n",
    "    return c\n",
    "\n",
    "def drawLSpolynomial(x,y,c,N,xmin,xmax):\n",
    "    delta = (xmax-xmin)/(N-1.0)\n",
    "    px = np.zeros(N)\n",
    "    py = np.zeros(N)\n",
    "    for i in range(N):\n",
    "        xp = xmin + i*delta\n",
    "        px[i] = xp\n",
    "        py[i] = evalp(xp,c)\n",
    "    plt.scatter(x,y)\n",
    "    plt.plot(px,py)\n",
    "    deltax = xmax - xmin\n",
    "    plt.xlim(xmin-0.2*deltax, xmax+0.2*deltax)\n",
    "    ymin = min([min(y),min(py)])\n",
    "    ymax = max([max(y),max(py)])\n",
    "    deltay = (ymax-ymin)\n",
    "    plt.ylim(ymin-0.5*deltay,ymax+0.5*deltay)\n",
    "    plt.show()\n",
    "\n",
    "x = [1.0,2.0,3.0,4.0,5.0]\n",
    "y = [3.0,6.0,2.0,10.0,2.0] \n",
    "d = 4\n",
    "\n",
    "A = buildLSmatrix(x,d)\n",
    "print(A)\n",
    "\n",
    "c = LeastSquares(x,y,d)\n",
    "print('Esse sao os coefientes:')\n",
    "X = 0\n",
    "print ('(x, f(X))')\n",
    "for i in range(len(c)):\n",
    "    print (X, c[i])\n",
    "    X = X + 5\n",
    "\n",
    "erro = np.linalg.norm(A.dot(c)-y)**2\n",
    "print('Erro da minha aproximacao:', erro)\n",
    "\n",
    "\n",
    "\n",
    "drawLSpolynomial(x,y,c,100,min(x),max(x))\n",
    "\n"
   ]
  },
  {
   "cell_type": "code",
   "execution_count": null,
   "metadata": {
    "collapsed": true
   },
   "outputs": [],
   "source": []
  }
 ],
 "metadata": {
  "kernelspec": {
   "display_name": "Python 2",
   "language": "python",
   "name": "python2"
  },
  "language_info": {
   "codemirror_mode": {
    "name": "ipython",
    "version": 2
   },
   "file_extension": ".py",
   "mimetype": "text/x-python",
   "name": "python",
   "nbconvert_exporter": "python",
   "pygments_lexer": "ipython2",
   "version": "2.7.13"
  }
 },
 "nbformat": 4,
 "nbformat_minor": 0
}
