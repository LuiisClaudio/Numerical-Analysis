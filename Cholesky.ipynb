{
 "cells": [
  {
   "cell_type": "code",
   "execution_count": 63,
   "metadata": {
    "collapsed": false
   },
   "outputs": [
    {
     "name": "stdout",
     "output_type": "stream",
     "text": [
      "[[ 1.          0.          0.          0.        ]\n",
      " [ 1.          1.73205081  0.          0.        ]\n",
      " [ 1.          1.73205081  2.23606798  0.        ]\n",
      " [ 1.          1.73205081  2.23606798  3.        ]]\n",
      "[[  1.   1.   1.   1.]\n",
      " [  1.   4.   4.   4.]\n",
      " [  1.   4.   9.   9.]\n",
      " [  1.   4.   9.  18.]]\n"
     ]
    }
   ],
   "source": [
    "import numpy as np\n",
    "import math\n",
    "\n",
    "def Choleskydecomp(A):\n",
    "    L = np.copy(A)\n",
    "    n = len(A)\n",
    "    L[0][0] = math.sqrt(L[0,0]) \n",
    "    for j in range(n):\n",
    "        L[j][j] = L[j][j]\n",
    "        for k in range(j):\n",
    "            L[j][j] -= (L[j][k])**2\n",
    "        L[j][j] = math.sqrt(L[j][j])\n",
    "        for i in range(j+1,n):\n",
    "            L[i][j] = L[i][j]\n",
    "            for k in range(j):\n",
    "                L[i][j] -= L[i][k]*L[j][k]\n",
    "            L[i][j] /= L[j][j]\n",
    "    for i in range(n-1):\n",
    "        for j in range(i+1,n):\n",
    "            L[i][j] = 0.0\n",
    "    return L\n",
    "\n",
    "A = np.matrix([[1.0,1.0,1.0,1.0],[1.0,4.0,4.0,4.0],[1.0,4.0,9.0,9.0],[1.0,4.0,9.0,18.0]])\n",
    "L = Choleskydecomp(A)\n",
    "print(L)\n",
    "print(L.dot(np.transpose(L)))\n",
    "b = [0,1,2,3]"
   ]
  },
  {
   "cell_type": "code",
   "execution_count": 64,
   "metadata": {
    "collapsed": false
   },
   "outputs": [
    {
     "name": "stdout",
     "output_type": "stream",
     "text": [
      "[[  1.   1.   1.   1.]\n",
      " [  1.   4.   4.   4.]\n",
      " [  1.   4.   9.   9.]\n",
      " [  1.   4.   9.  18.]]\n"
     ]
    }
   ],
   "source": [
    "print(A)"
   ]
  },
  {
   "cell_type": "code",
   "execution_count": 91,
   "metadata": {
    "collapsed": true
   },
   "outputs": [],
   "source": [
    "def LLforwardsub (L,b):\n",
    "    n = len(L)\n",
    "    y = np.zeros(n)\n",
    "    y[0] = b[0]\n",
    "    for i in range(1, n):\n",
    "        y[i] = b[i]\n",
    "        for j in range(i):\n",
    "            y[i] -= L[i][j]*y[j]\n",
    "        y[i] /= L[i][i]\n",
    "    return y"
   ]
  },
  {
   "cell_type": "code",
   "execution_count": 92,
   "metadata": {
    "collapsed": true
   },
   "outputs": [],
   "source": [
    "def LLbackwardsub (L,y):\n",
    "    Lt = np.transpose(L)\n",
    "    n = len(L)\n",
    "    x = np.zeros(n)\n",
    "    x[n-1] = y[n-1]/Lt[n-1][n-1]\n",
    "    for i in range(n-2,-1,-1):\n",
    "        x[i] = y[i]\n",
    "        for j in range(i+1,n):\n",
    "            x[i] = x[i] - Lt[i][j]*x[j]\n",
    "        x[i] /= Lt[i][i]\n",
    "    return x"
   ]
  },
  {
   "cell_type": "code",
   "execution_count": 93,
   "metadata": {
    "collapsed": true
   },
   "outputs": [],
   "source": [
    "def LLsolve(LL,b):\n",
    "    y = LLforwardsub(LL,b)\n",
    "    x = LLbackwardsub(LL,y)\n",
    "    return x"
   ]
  },
  {
   "cell_type": "code",
   "execution_count": 94,
   "metadata": {
    "collapsed": false
   },
   "outputs": [
    {
     "data": {
      "text/plain": [
       "array([ 0.        ,  0.57735027,  0.4472136 ,  0.33333333])"
      ]
     },
     "execution_count": 94,
     "metadata": {},
     "output_type": "execute_result"
    }
   ],
   "source": [
    "y = LLforwardsub(L, b)\n",
    "y"
   ]
  },
  {
   "cell_type": "code",
   "execution_count": 95,
   "metadata": {
    "collapsed": false
   },
   "outputs": [
    {
     "data": {
      "text/plain": [
       "array([-0.33333333,  0.13333333,  0.08888889,  0.11111111])"
      ]
     },
     "execution_count": 95,
     "metadata": {},
     "output_type": "execute_result"
    }
   ],
   "source": [
    "x = LLbackwardsub(L, y)\n",
    "x"
   ]
  },
  {
   "cell_type": "code",
   "execution_count": 96,
   "metadata": {
    "collapsed": false
   },
   "outputs": [
    {
     "data": {
      "text/plain": [
       "array([-0.33333333,  0.13333333,  0.08888889,  0.11111111])"
      ]
     },
     "execution_count": 96,
     "metadata": {},
     "output_type": "execute_result"
    }
   ],
   "source": [
    "LLsolve(L, b)"
   ]
  },
  {
   "cell_type": "code",
   "execution_count": 97,
   "metadata": {
    "collapsed": false
   },
   "outputs": [
    {
     "data": {
      "text/plain": [
       "matrix([[ 0.,  1.,  2.,  3.]])"
      ]
     },
     "execution_count": 97,
     "metadata": {},
     "output_type": "execute_result"
    }
   ],
   "source": [
    "np.dot(A, x)"
   ]
  },
  {
   "cell_type": "code",
   "execution_count": null,
   "metadata": {
    "collapsed": true
   },
   "outputs": [],
   "source": []
  },
  {
   "cell_type": "code",
   "execution_count": null,
   "metadata": {
    "collapsed": true
   },
   "outputs": [],
   "source": []
  }
 ],
 "metadata": {
  "kernelspec": {
   "display_name": "Python 2",
   "language": "python",
   "name": "python2"
  },
  "language_info": {
   "codemirror_mode": {
    "name": "ipython",
    "version": 2
   },
   "file_extension": ".py",
   "mimetype": "text/x-python",
   "name": "python",
   "nbconvert_exporter": "python",
   "pygments_lexer": "ipython2",
   "version": "2.7.13"
  }
 },
 "nbformat": 4,
 "nbformat_minor": 0
}
