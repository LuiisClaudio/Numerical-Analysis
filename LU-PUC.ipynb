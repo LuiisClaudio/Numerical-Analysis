{
 "cells": [
  {
   "cell_type": "code",
   "execution_count": 6,
   "metadata": {
    "collapsed": true
   },
   "outputs": [],
   "source": [
    "import numpy as np"
   ]
  },
  {
   "cell_type": "code",
   "execution_count": 8,
   "metadata": {
    "collapsed": false
   },
   "outputs": [],
   "source": [
    "def lu(A):\n",
    "    n = len(A)\n",
    "    L = np.zeros(n*n).reshape((n,n))\n",
    "    U = np.zeros(n*n).reshape((n,n))\n",
    "    for j in xrange(n):\n",
    "        L[j][j] = 1.0\n",
    "        for i in xrange(j+1):\n",
    "            s1 = sum(U[k][j] * L[i][k] for k in xrange(i))\n",
    "            U[i][j] = A[i][j] - s1\n",
    "        for i in xrange(j, n):\n",
    "            s2 = sum(U[k][j] * L[i][k] for k in xrange(j))\n",
    "            L[i][j] = (A[i][j] - s2) / U[j][j]\n",
    "    return L, U\n",
    " "
   ]
  },
  {
   "cell_type": "code",
   "execution_count": 9,
   "metadata": {
    "collapsed": false
   },
   "outputs": [
    {
     "data": {
      "text/plain": [
       "array([[4, 9, 2],\n",
       "       [3, 5, 7],\n",
       "       [8, 1, 6]])"
      ]
     },
     "execution_count": 9,
     "metadata": {},
     "output_type": "execute_result"
    }
   ],
   "source": [
    "a = [[4, 9, 2], [3, 5, 7], [8, 1, 6]]\n",
    "np.asarray(a).reshape((len(a),len(a)))"
   ]
  },
  {
   "cell_type": "code",
   "execution_count": 11,
   "metadata": {
    "collapsed": false
   },
   "outputs": [],
   "source": [
    "l, u = lu(a)"
   ]
  },
  {
   "cell_type": "code",
   "execution_count": 12,
   "metadata": {
    "collapsed": false
   },
   "outputs": [
    {
     "data": {
      "text/plain": [
       "array([[  4.        ,   0.        ,   0.        ],\n",
       "       [  0.        ,  -1.75      ,   0.        ],\n",
       "       [  0.        ,   0.        , -51.42857143]])"
      ]
     },
     "execution_count": 12,
     "metadata": {},
     "output_type": "execute_result"
    }
   ],
   "source": [
    "l*u"
   ]
  },
  {
   "cell_type": "code",
   "execution_count": 13,
   "metadata": {
    "collapsed": false
   },
   "outputs": [
    {
     "data": {
      "text/plain": [
       "array([[ 4.,  9.,  2.],\n",
       "       [ 3.,  5.,  7.],\n",
       "       [ 8.,  1.,  6.]])"
      ]
     },
     "execution_count": 13,
     "metadata": {},
     "output_type": "execute_result"
    }
   ],
   "source": [
    "np.dot(l,u)"
   ]
  },
  {
   "cell_type": "code",
   "execution_count": 14,
   "metadata": {
    "collapsed": true
   },
   "outputs": [],
   "source": [
    "def findX(l, b):\n",
    "    #Foward\n",
    "    n = len(b)\n",
    "    x = np.zeros(n)\n",
    "    for i in xrange(1, n):\n",
    "        x[i] = b[i]\n",
    "        for j in range(1, i - 1):\n",
    "            x[i] = x[i] - l[i][j]*x[j]\n",
    "        x[i] = x[i]/l[i][i]\n",
    "    return x"
   ]
  },
  {
   "cell_type": "code",
   "execution_count": 16,
   "metadata": {
    "collapsed": true
   },
   "outputs": [],
   "source": [
    "def findY(u, b):\n",
    "    #backward\n",
    "    n = len(b)\n",
    "    y = np.zeros(n)\n",
    "    for i in range( ((-1)*n), -1, -1):\n",
    "        y[i]= b[i]\n",
    "        for j in range(i + 1, n):\n",
    "            y[i] = y[i] - u[i][j]*y[j]\n",
    "    y[i] = y[i]/u[i][i]\n",
    "    return y"
   ]
  },
  {
   "cell_type": "code",
   "execution_count": null,
   "metadata": {
    "collapsed": true
   },
   "outputs": [],
   "source": []
  }
 ],
 "metadata": {
  "kernelspec": {
   "display_name": "Python 2",
   "language": "python",
   "name": "python2"
  },
  "language_info": {
   "codemirror_mode": {
    "name": "ipython",
    "version": 2
   },
   "file_extension": ".py",
   "mimetype": "text/x-python",
   "name": "python",
   "nbconvert_exporter": "python",
   "pygments_lexer": "ipython2",
   "version": "2.7.13"
  }
 },
 "nbformat": 4,
 "nbformat_minor": 2
}
