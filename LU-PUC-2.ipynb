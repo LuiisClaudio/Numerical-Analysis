{
 "cells": [
  {
   "cell_type": "code",
   "execution_count": 3,
   "metadata": {
    "collapsed": true
   },
   "outputs": [],
   "source": [
    "import numpy as np"
   ]
  },
  {
   "cell_type": "code",
   "execution_count": 79,
   "metadata": {
    "collapsed": true
   },
   "outputs": [],
   "source": [
    "def pivotize(m):\n",
    "    \"\"\"Creates the pivoting matrix for m.\"\"\"\n",
    "    n = len(m)\n",
    "    ID = [[float(i == j) for i in xrange(n)] for j in xrange(n)]\n",
    "    for j in xrange(n):\n",
    "        row = max(xrange(j, n), key=lambda i: abs(m[i][j]))\n",
    "        if j != row:\n",
    "            ID[j], ID[row] = ID[row], ID[j]\n",
    "    return ID"
   ]
  },
  {
   "cell_type": "code",
   "execution_count": 80,
   "metadata": {
    "collapsed": true
   },
   "outputs": [],
   "source": [
    "def lu(A):\n",
    "    \"\"\"Decomposes a nxn matrix A by PA=LU and returns L, U and P.\"\"\"\n",
    "    n = len(A)\n",
    "    L = [[0.0] * n for i in xrange(n)]\n",
    "    U = [[0.0] * n for i in xrange(n)]\n",
    "    P = pivotize(A)\n",
    "    A2 = matrixMul(P, A)\n",
    "    #A2 = A.copy()\n",
    "    for j in xrange(n):\n",
    "        L[j][j] = 1.0\n",
    "        for i in xrange(j+1):\n",
    "            s1 = sum(U[k][j] * L[i][k] for k in xrange(i))\n",
    "            U[i][j] = A2[i][j] - s1\n",
    "        for i in xrange(j, n):\n",
    "            s2 = sum(U[k][j] * L[i][k] for k in xrange(j))\n",
    "            L[i][j] = (A2[i][j] - s2) / U[j][j]\n",
    "    return L, U"
   ]
  },
  {
   "cell_type": "code",
   "execution_count": 54,
   "metadata": {
    "collapsed": true
   },
   "outputs": [],
   "source": [
    "def dfLU(a, n):\n",
    "    u = np.zeros(n*n).reshape((n,n))\n",
    "    l = np.zeros(n*n).reshape((n,n))\n",
    "    i = 0; j = 0; k = 0;\n",
    "    i = 0; j = 0; k = 0;\n",
    "    for i in range(n): \n",
    "        for j in range(n):\n",
    "            if j < i:\n",
    "                l[j][i] = 0\n",
    "            else:\n",
    "                l[j][i] = a[j][i]\n",
    "                for k in range(i):\n",
    "                    l[j][i] = l[j][i] - l[j][k] * u[k][i]\n",
    "                    \n",
    "        for j in range(n):\n",
    "            if j < i:\n",
    "                u[i][j] = 0\n",
    "            if i == j:\n",
    "                 u[i][j] = 1\n",
    "            else:\n",
    "                u[i][j] = a[i][j] / l[i][i]\n",
    "                for k in range(i):\n",
    "                    u[i][j] = u[i][j] - ((l[i][k] * u[k][j]) / l[i][i])\n",
    "\n",
    "    return l, u"
   ]
  },
  {
   "cell_type": "code",
   "execution_count": 59,
   "metadata": {
    "collapsed": true
   },
   "outputs": [],
   "source": [
    "def luT(a, n):\n",
    "    u = np.zeros(n*n).reshape((n,n))\n",
    "    l = np.zeros(n*n).reshape((n,n))\n",
    "    i = 0; j = 0; k = 0;\n",
    "    for i in range(n): \n",
    "        for j in range(n):\n",
    "            if j < i:\n",
    "                l[j][i] = 0\n",
    "            else:\n",
    "                l[j][i] = a[j][i]\n",
    "                for k in range(i):\n",
    "                    l[j][i] = l[j][i] - l[j][k] * u[k][i]\n",
    "                    \n",
    "        for j in range(n):\n",
    "            if j < i:\n",
    "                u[i][j] = 0\n",
    "            if i == j:\n",
    "                 u[i][j] = 1\n",
    "            else:\n",
    "                u[i][j] = a[i][j] / l[i][i]\n",
    "                for k in range(i):\n",
    "                    u[i][j] = u[i][j] - ((l[i][k] * u[k][j]) / l[i][i])\n",
    "    return l, u"
   ]
  },
  {
   "cell_type": "code",
   "execution_count": null,
   "metadata": {
    "collapsed": true
   },
   "outputs": [],
   "source": [
    "def luV(a, n):\n",
    "    u = a.copy()\n",
    "    l = a.copy()\n",
    "    \n",
    "    i = 0; j = 0; k = 0;\n",
    "    for i in range(n): \n",
    "        for j in range(n):\n",
    "            if j < i:\n",
    "                l[j][i] = 0\n",
    "            else:\n",
    "                l[j][i] = a[j][i]\n",
    "                for k in range(i):\n",
    "                    l[j][i] = l[j][i] - l[j][k] * u[k][i]\n",
    "                    \n",
    "        for j in range(n):\n",
    "            if j < i:\n",
    "                u[i][j] = 0\n",
    "            if i == j:\n",
    "                 u[i][j] = 1\n",
    "            else:\n",
    "                u[i][j] = a[i][j] / l[i][i]\n",
    "                for k in range(i):\n",
    "                    u[i][j] = u[i][j] - ((l[i][k] * u[k][j]) / l[i][i])\n",
    "    return l, u"
   ]
  },
  {
   "cell_type": "code",
   "execution_count": 81,
   "metadata": {
    "collapsed": false
   },
   "outputs": [
    {
     "data": {
      "text/plain": [
       "array([[ 7,  3, -1,  2],\n",
       "       [ 3,  8,  1, -4],\n",
       "       [-1,  1,  4, -1],\n",
       "       [ 2, -4, -1,  6]])"
      ]
     },
     "execution_count": 81,
     "metadata": {},
     "output_type": "execute_result"
    }
   ],
   "source": [
    "A = np.array([ [7, 3, -1, 2], [3, 8, 1, -4], [-1, 1, 4, -1], [2, -4, -1, 6] ])\n",
    "A"
   ]
  },
  {
   "cell_type": "code",
   "execution_count": 82,
   "metadata": {
    "collapsed": false
   },
   "outputs": [
    {
     "ename": "NameError",
     "evalue": "global name 'matrixMul' is not defined",
     "output_type": "error",
     "traceback": [
      "\u001b[0;31m---------------------------------------------------------------------------\u001b[0m",
      "\u001b[0;31mNameError\u001b[0m                                 Traceback (most recent call last)",
      "\u001b[0;32m<ipython-input-82-45cbe987287a>\u001b[0m in \u001b[0;36m<module>\u001b[0;34m()\u001b[0m\n\u001b[0;32m----> 1\u001b[0;31m \u001b[0mL\u001b[0m\u001b[0;34m,\u001b[0m \u001b[0mU\u001b[0m \u001b[0;34m=\u001b[0m \u001b[0mlu\u001b[0m\u001b[0;34m(\u001b[0m\u001b[0mA\u001b[0m\u001b[0;34m)\u001b[0m\u001b[0;34m\u001b[0m\u001b[0m\n\u001b[0m",
      "\u001b[0;32m<ipython-input-80-2bf6fc8ffe8b>\u001b[0m in \u001b[0;36mlu\u001b[0;34m(A)\u001b[0m\n\u001b[1;32m      5\u001b[0m     \u001b[0mU\u001b[0m \u001b[0;34m=\u001b[0m \u001b[0;34m[\u001b[0m\u001b[0;34m[\u001b[0m\u001b[0;36m0.0\u001b[0m\u001b[0;34m]\u001b[0m \u001b[0;34m*\u001b[0m \u001b[0mn\u001b[0m \u001b[0;32mfor\u001b[0m \u001b[0mi\u001b[0m \u001b[0;32min\u001b[0m \u001b[0mxrange\u001b[0m\u001b[0;34m(\u001b[0m\u001b[0mn\u001b[0m\u001b[0;34m)\u001b[0m\u001b[0;34m]\u001b[0m\u001b[0;34m\u001b[0m\u001b[0m\n\u001b[1;32m      6\u001b[0m     \u001b[0mP\u001b[0m \u001b[0;34m=\u001b[0m \u001b[0mpivotize\u001b[0m\u001b[0;34m(\u001b[0m\u001b[0mA\u001b[0m\u001b[0;34m)\u001b[0m\u001b[0;34m\u001b[0m\u001b[0m\n\u001b[0;32m----> 7\u001b[0;31m     \u001b[0mA2\u001b[0m \u001b[0;34m=\u001b[0m \u001b[0mmatrixMul\u001b[0m\u001b[0;34m(\u001b[0m\u001b[0mP\u001b[0m\u001b[0;34m,\u001b[0m \u001b[0mA\u001b[0m\u001b[0;34m)\u001b[0m\u001b[0;34m\u001b[0m\u001b[0m\n\u001b[0m\u001b[1;32m      8\u001b[0m     \u001b[0;31m#A2 = A.copy()\u001b[0m\u001b[0;34m\u001b[0m\u001b[0;34m\u001b[0m\u001b[0m\n\u001b[1;32m      9\u001b[0m     \u001b[0;32mfor\u001b[0m \u001b[0mj\u001b[0m \u001b[0;32min\u001b[0m \u001b[0mxrange\u001b[0m\u001b[0;34m(\u001b[0m\u001b[0mn\u001b[0m\u001b[0;34m)\u001b[0m\u001b[0;34m:\u001b[0m\u001b[0;34m\u001b[0m\u001b[0m\n",
      "\u001b[0;31mNameError\u001b[0m: global name 'matrixMul' is not defined"
     ]
    }
   ],
   "source": [
    "L, U = lu(A)"
   ]
  },
  {
   "cell_type": "code",
   "execution_count": 73,
   "metadata": {
    "collapsed": false
   },
   "outputs": [
    {
     "name": "stdout",
     "output_type": "stream",
     "text": [
      "[[ 1.  0.  0.  0.]\n",
      " [ 0.  1.  0.  0.]\n",
      " [-1.  0.  1.  0.]\n",
      " [ 0. -1.  0.  1.]]\n"
     ]
    }
   ],
   "source": [
    "L = np.asarray(L).reshape((len(L),len(L)))\n",
    "print L"
   ]
  },
  {
   "cell_type": "code",
   "execution_count": 74,
   "metadata": {
    "collapsed": false
   },
   "outputs": [
    {
     "name": "stdout",
     "output_type": "stream",
     "text": [
      "[[ 7.  3. -1.  2.]\n",
      " [ 0.  8.  1. -4.]\n",
      " [ 0.  0.  3.  1.]\n",
      " [ 0.  0.  0.  2.]]\n"
     ]
    }
   ],
   "source": [
    "U = np.asarray(U).reshape((len(U),len(U)))\n",
    "print U"
   ]
  },
  {
   "cell_type": "code",
   "execution_count": 75,
   "metadata": {
    "collapsed": false
   },
   "outputs": [
    {
     "name": "stdout",
     "output_type": "stream",
     "text": [
      "[[ 7.  0. -0.  0.]\n",
      " [ 0.  8.  0. -0.]\n",
      " [-0.  0.  3.  0.]\n",
      " [ 0. -0.  0.  2.]]\n"
     ]
    }
   ],
   "source": [
    "print L*U"
   ]
  },
  {
   "cell_type": "code",
   "execution_count": 49,
   "metadata": {
    "collapsed": false
   },
   "outputs": [],
   "source": [
    "def LU_PUC(a, n):\n",
    "    #u = a.copy()\n",
    "    #l = a.copy()\n",
    "    u = np.zeros(n*n).reshape((n,n))\n",
    "    l = np.zeros(n*n).reshape((n,n))\n",
    "    k =  0\n",
    "    while(k < n):\n",
    "    #for(k=1;k<=n;k++)\n",
    "        u[k][k]=1;\n",
    "        i = k\n",
    "        while(i < n):\n",
    "        #for(i=k;i<=n;i++)\n",
    "            soma=0;\n",
    "            p = 1\n",
    "            while(p < (k-1) ):\n",
    "            #for(p=1;p<=k-1;p++)\n",
    "                soma+=l[i][p]*u[p][k];\n",
    "                p = p + 1\n",
    "            l[i][k]=a[i][k]-soma\n",
    "            i = i + 1\n",
    "        \n",
    "        j = k + 1\n",
    "        while(j < n):\n",
    "        #for(j=k+1;j<=n;j++)\n",
    "            soma=0;\n",
    "            p = 1\n",
    "            while(p < (k - 1) ):\n",
    "            #for(p=1;p<=k-1;p++)\n",
    "                soma+=l[k][p]*u[p][j];\n",
    "                p = p + 1\n",
    "            u[k][j]=(a[k][j]-soma)/l[k][k];\n",
    "            j = j + 1\n",
    "        k = k + 1\n",
    "    return l, u "
   ]
  },
  {
   "cell_type": "code",
   "execution_count": 60,
   "metadata": {
    "collapsed": false
   },
   "outputs": [],
   "source": [
    "L, U = LU_PUC(A, len(A))"
   ]
  },
  {
   "cell_type": "code",
   "execution_count": 61,
   "metadata": {
    "collapsed": false
   },
   "outputs": [
    {
     "name": "stdout",
     "output_type": "stream",
     "text": [
      "[[ 7.  0.  0.  0.]\n",
      " [ 3.  8.  0.  0.]\n",
      " [-1.  1.  4.  0.]\n",
      " [ 2. -4. -1.  4.]]\n"
     ]
    }
   ],
   "source": [
    "print L"
   ]
  },
  {
   "cell_type": "code",
   "execution_count": 62,
   "metadata": {
    "collapsed": false
   },
   "outputs": [
    {
     "name": "stdout",
     "output_type": "stream",
     "text": [
      "[[ 1.          0.42857143 -0.14285714  0.28571429]\n",
      " [ 0.          1.          0.125      -0.5       ]\n",
      " [ 0.          0.          1.         -0.25      ]\n",
      " [ 0.          0.          0.          1.        ]]\n"
     ]
    }
   ],
   "source": [
    "print U"
   ]
  },
  {
   "cell_type": "code",
   "execution_count": 53,
   "metadata": {
    "collapsed": false
   },
   "outputs": [
    {
     "data": {
      "text/plain": [
       "array([[ 7.,  0., -0.,  0.],\n",
       "       [ 0.,  8.,  0., -0.],\n",
       "       [-0.,  0.,  4., -0.],\n",
       "       [ 0., -0., -0.,  4.]])"
      ]
     },
     "execution_count": 53,
     "metadata": {},
     "output_type": "execute_result"
    }
   ],
   "source": [
    "L*U"
   ]
  },
  {
   "cell_type": "code",
   "execution_count": 57,
   "metadata": {
    "collapsed": false
   },
   "outputs": [],
   "source": [
    "q,w = dfLU(A, len(A))"
   ]
  },
  {
   "cell_type": "code",
   "execution_count": 58,
   "metadata": {
    "collapsed": false
   },
   "outputs": [
    {
     "data": {
      "text/plain": [
       "array([[7, 0, 0, 0],\n",
       "       [0, 8, 0, 0],\n",
       "       [0, 0, 2, 0],\n",
       "       [0, 0, 0, 2]])"
      ]
     },
     "execution_count": 58,
     "metadata": {},
     "output_type": "execute_result"
    }
   ],
   "source": [
    "q*w"
   ]
  },
  {
   "cell_type": "code",
   "execution_count": null,
   "metadata": {
    "collapsed": true
   },
   "outputs": [],
   "source": []
  }
 ],
 "metadata": {
  "kernelspec": {
   "display_name": "Python 2",
   "language": "python",
   "name": "python2"
  },
  "language_info": {
   "codemirror_mode": {
    "name": "ipython",
    "version": 2
   },
   "file_extension": ".py",
   "mimetype": "text/x-python",
   "name": "python",
   "nbconvert_exporter": "python",
   "pygments_lexer": "ipython2",
   "version": "2.7.13"
  }
 },
 "nbformat": 4,
 "nbformat_minor": 2
}
