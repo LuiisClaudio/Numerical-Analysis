{
 "cells": [
  {
   "cell_type": "markdown",
   "metadata": {},
   "source": [
    "## INF1608 - Análise Numérica - 2017.1\n",
    "## Departamento de Informática - PUC-Rio \n",
    "## Prof. Hélio Lopes - lopes@inf.puc-rio.br\n",
    "## http://www.inf.puc-rio.br/~lopes\n",
    "\n",
    "\n",
    "## Lista 5\n",
    "\n",
    "1) Implemente o método de Reflexão de Householder para a obtenção da decomposição QR de uma matriz quadrada nxn.\n",
    "       \n",
    "2) Implemente o método de Rotação de Givens para a obtenção da decomposição QR de uma matriz quadrada nxn.\n",
    "     \n",
    "3) Teste muito bem todos esses algoritmos!"
   ]
  },
  {
   "cell_type": "code",
   "execution_count": 75,
   "metadata": {
    "collapsed": false
   },
   "outputs": [],
   "source": [
    "import numpy as np\n",
    "import math\n",
    "from IPython.display import Image"
   ]
  },
  {
   "cell_type": "code",
   "execution_count": 76,
   "metadata": {
    "collapsed": false
   },
   "outputs": [],
   "source": [
    "def householder(A):\n",
    "    R = np.copy(A)\n",
    "    n = len(A)\n",
    "    U = np.zeros(n*n).reshape((n,n))\n",
    "    for i in range(n):\n",
    "        x = R[i:n,i]\n",
    "        e = np.zeros(len(x))\n",
    "        e[0] = 1\n",
    "        u = np.sign(x[0])*np.linalg.norm(x)*e + x\n",
    "        u = u/np.linalg.norm(u)\n",
    "        u = np.matrix(u)\n",
    "        ut = np.transpose(u)\n",
    "        R[i:n,i:n] = R[i:n,i:n] -2*np.dot( np.dot(ut, u) , R[i:n,i:n])\n",
    "        U[i:n, i] = u\n",
    "    return U, R"
   ]
  },
  {
   "cell_type": "code",
   "execution_count": 74,
   "metadata": {
    "collapsed": false
   },
   "outputs": [
    {
     "name": "stdout",
     "output_type": "stream",
     "text": [
      "[[  12.  -51.    4.]\n",
      " [   6.  167.  -68.]\n",
      " [  -4.   24.  -41.]]\n",
      "[[ 0.96362411  0.          0.        ]\n",
      " [ 0.22237479  0.99846035  0.        ]\n",
      " [-0.14824986  0.05547002 -1.        ]]\n",
      "[[ -1.40000000e+01  -2.10000000e+01   1.40000000e+01]\n",
      " [  8.88178420e-16  -1.75000000e+02   7.00000000e+01]\n",
      " [ -4.44089210e-16   0.00000000e+00   3.50000000e+01]]\n"
     ]
    }
   ],
   "source": [
    "#A = np.matrix([[16.,2.,3.,13.],[5.,11.,10.,8.],[9.,7.,6.,12.],[4.,14.,15.,1.]])\n",
    "A = np.matrix([[12., -51., 4.],[6.,167., -68.],[-4., 24., -41.]])\n",
    "Q,R = householder(A)\n",
    "print A\n",
    "print Q\n",
    "print R"
   ]
  },
  {
   "cell_type": "code",
   "execution_count": null,
   "metadata": {
    "collapsed": false
   },
   "outputs": [],
   "source": []
  },
  {
   "cell_type": "code",
   "execution_count": 62,
   "metadata": {
    "collapsed": false
   },
   "outputs": [],
   "source": [
    "def givensRotation(a, b):\n",
    "    if b == 0:\n",
    "        c = 1\n",
    "        s = 0\n",
    "    else:\n",
    "        if abs(b) > abs(a):\n",
    "            r = a/b\n",
    "            s = 1/ math.sqrt(1 + (r**2))\n",
    "            c = s*r\n",
    "        else:\n",
    "            r = b/a\n",
    "            c = 1/ math.sqrt(1 + (r**2))\n",
    "            s = c*r\n",
    "    return c, s\n",
    "\n",
    "def QRgivens(A):\n",
    "    n = len(A)\n",
    "    Q = np.eye(n)\n",
    "    R = np.copy(A)\n",
    "    for j in range(n-1):\n",
    "        k = 0\n",
    "        for i in range(n-1, j, -1):\n",
    "            G = np.eye(n)\n",
    "            c, s = givensRotation(R[i-1,j],R[i,j])\n",
    "            G[i-1:i+1, i-1: i+1] = np.vstack((np.transpose(np.vstack((c,-s))), np.transpose(np.vstack((s, c)))))\n",
    "            R = np.dot(np.transpose(G), R)\n",
    "            Q = np.dot(Q,G)\n",
    "    return Q, R"
   ]
  },
  {
   "cell_type": "code",
   "execution_count": 63,
   "metadata": {
    "collapsed": false
   },
   "outputs": [
    {
     "name": "stdout",
     "output_type": "stream",
     "text": [
      "A, Q, R\n",
      "[[  12.  -51.    4.]\n",
      " [   6.  167.  -68.]\n",
      " [  -4.   24.  -41.]]\n",
      "[[ 0.85714286 -0.39428571  0.33142857]\n",
      " [ 0.42857143  0.90285714 -0.03428571]\n",
      " [-0.28571429  0.17142857  0.94285714]]\n",
      "[[  1.40000000e+01   2.10000000e+01  -1.40000000e+01]\n",
      " [  0.00000000e+00   1.75000000e+02  -7.00000000e+01]\n",
      " [  0.00000000e+00   1.95202322e-15  -3.50000000e+01]]\n"
     ]
    },
    {
     "data": {
      "text/plain": [
       "array([[  12.,  -51.,    4.],\n",
       "       [   6.,  167.,  -68.],\n",
       "       [  -4.,   24.,  -41.]])"
      ]
     },
     "execution_count": 63,
     "metadata": {},
     "output_type": "execute_result"
    }
   ],
   "source": [
    "A = np.matrix([[12., -51., 4.],[6.,167., -68.],[-4., 24., -41.]])\n",
    "Q,R = QRgivens(A)\n",
    "print 'A, Q, R'\n",
    "print A\n",
    "print Q\n",
    "print R\n",
    "np.dot(Q,R)"
   ]
  },
  {
   "cell_type": "code",
   "execution_count": null,
   "metadata": {
    "collapsed": false
   },
   "outputs": [],
   "source": []
  },
  {
   "cell_type": "code",
   "execution_count": null,
   "metadata": {
    "collapsed": false
   },
   "outputs": [],
   "source": []
  },
  {
   "cell_type": "code",
   "execution_count": null,
   "metadata": {
    "collapsed": true
   },
   "outputs": [],
   "source": []
  }
 ],
 "metadata": {
  "kernelspec": {
   "display_name": "Python 2",
   "language": "python",
   "name": "python2"
  },
  "language_info": {
   "codemirror_mode": {
    "name": "ipython",
    "version": 2
   },
   "file_extension": ".py",
   "mimetype": "text/x-python",
   "name": "python",
   "nbconvert_exporter": "python",
   "pygments_lexer": "ipython2",
   "version": "2.7.13"
  }
 },
 "nbformat": 4,
 "nbformat_minor": 0
}
