{
 "cells": [
  {
   "cell_type": "markdown",
   "metadata": {},
   "source": [
    "## INF1608 - Análise Numérica - 2017.1\n",
    "## Departamento de Informática - PUC-Rio \n",
    "## Prof. Hélio Lopes - lopes@inf.puc-rio.br\n",
    "## http://www.inf.puc-rio.br/~lopes\n",
    "\n",
    "\n",
    "# Exercícios resolvidos\n",
    "\n",
    "R1) Faça uma função que verique se uma matriz A de tamanho nxn é estritamente diagonal dominante:\n",
    "        Definição: Uma matriz A (nxn) é estritamente diagonal dominante se para toda linha i vale:\n",
    "                   $$|A_{i,i}| > \\sum_{i=1, i\\ne j}^n |A_{i,j}|$$\n",
    "                   \n",
    "R2) Implemente o método de Jacobi para a solução de um sistema de equações lineares. Defina um critério de parada para o seu método, e explique-o. \n",
    "        https://pt.wikipedia.org/wiki/M%C3%A9todo_de_Jacobi\n",
    "\n",
    "R3) Implemente o método de Gauss-Seidel para a solução de um sistema de equações lineares. Defina um critério de parada para o seu método, e explique-o.\n",
    "        https://pt.wikipedia.org/wiki/M%C3%A9todo_de_Gauss-Seidel\n",
    "\n",
    "## Lista 4\n",
    "\n",
    "1) Implemente o método de Gradiente Conjugado para a solução de um sistema de equações lineares. Defina um critério de parada para o seu método, e explique-o.\n",
    "        https://en.wikipedia.org/wiki/Conjugate_gradient_method\n",
    "\n",
    "2) Teste muito bem todos esses algoritmos!"
   ]
  },
  {
   "cell_type": "markdown",
   "metadata": {
    "collapsed": true
   },
   "source": [
    "## Solução"
   ]
  },
  {
   "cell_type": "markdown",
   "metadata": {},
   "source": [
    "R1) Faça uma função que verique se uma matriz A de tamanho nxn é estritamente diagonal dominante: \n",
    "\n",
    "Definição: Uma matriz A (nxn) é estritamente diagonal dominante se para toda linha i vale:\n",
    "  $$|A_{i,i}| > \\sum_{i=1, i\\ne j}^n |A_{i,j}|$$\n",
    " \n"
   ]
  },
  {
   "cell_type": "code",
   "execution_count": 118,
   "metadata": {
    "collapsed": false
   },
   "outputs": [
    {
     "name": "stdout",
     "output_type": "stream",
     "text": [
      "[[-2.  1.  0.]\n",
      " [ 1. -2.  1.]\n",
      " [ 0.  1. -2.]]\n",
      "False\n"
     ]
    }
   ],
   "source": [
    "import numpy as np\n",
    "import math\n",
    "\n",
    "def isdiagonaldominat(A):\n",
    "    n = len(A)\n",
    "    for i in range(n):\n",
    "        soma = 0.0\n",
    "        for j in range(n):\n",
    "            if (i != j):\n",
    "                a = A[i,j]\n",
    "                soma += math.fabs(a)\n",
    "        if (math.fabs(A[i,i]) <= soma):\n",
    "            return False\n",
    "    return True\n",
    "\n",
    "A = np.matrix([[-2.0,1.0,0.0],[1.0,-2.0,1.0],[0.0,1.0,-2.0]])\n",
    "print(A)\n",
    "print(isdiagonaldominat(A))\n"
   ]
  },
  {
   "cell_type": "markdown",
   "metadata": {},
   "source": [
    "R2) Implemente o método de Jacobi para a solução de um sistema de equações lineares. Defina um critério de parada para o seu método, e explique-o. https://pt.wikipedia.org/wiki/M%C3%A9todo_de_Jacobi"
   ]
  },
  {
   "cell_type": "code",
   "execution_count": 119,
   "metadata": {
    "collapsed": false
   },
   "outputs": [
    {
     "name": "stdout",
     "output_type": "stream",
     "text": [
      "A:\n",
      "[[ 2.  1.]\n",
      " [ 5.  7.]]\n",
      "b:\n",
      "[ 11.  13.]\n",
      "x:\n",
      "[ 7.1111107  -3.22222137]\n",
      "||Ax-b||:\n",
      "3.92347242466e-06\n",
      "Numero de iteracoes:\n",
      "31\n"
     ]
    }
   ],
   "source": [
    "import numpy as np\n",
    "\n",
    "def jacobi(A,b,x0,N,TOL):\n",
    "\n",
    "    nlin = len(A); #num. de linhas\n",
    "    x = np.zeros(nlin); #cria x\n",
    "   \n",
    "    #iteracoes\n",
    "    k = 1;\n",
    "    while (k <= N):\n",
    "        #iteracao de Jacobi\n",
    "        for i in range(nlin):\n",
    "            x[i] = 0.0;\n",
    "            for j in range(i):\n",
    "                x[i] = x[i] - A[i,j]*x0[j]\n",
    "            for j in range(i+1,nlin):\n",
    "                x[i] = x[i] - A[i,j]*x0[j]\n",
    "            x[i] = (x[i] + b[i])/A[i,i]\n",
    "        #criterio de parada\n",
    "        if (np.linalg.norm(x-x0) < TOL):\n",
    "            return x,k\n",
    "        #prepara nova iteracao\n",
    "        k = k+1;\n",
    "        x0 = np.copy(x)\n",
    "    return x0,k\n",
    "\n",
    "\n",
    "A = np.matrix([[2.0,1.0],[5.0,7.0]])\n",
    "b = np.array([11.0,13.0])\n",
    "guess = np.array([1.0,1.0])\n",
    "\n",
    "sol,n = jacobi(A,b,guess,100,0.000001)\n",
    "\n",
    "print \"A:\"\n",
    "print(A)\n",
    "\n",
    "print \"b:\"\n",
    "print(b)\n",
    "\n",
    "print \"x:\"\n",
    "print(sol)\n",
    "\n",
    "print \"||Ax-b||:\"\n",
    "print(np.linalg.norm(A.dot(sol)-b))\n",
    "\n",
    "print \"Numero de iteracoes:\"\n",
    "print(n)\n"
   ]
  },
  {
   "cell_type": "markdown",
   "metadata": {},
   "source": [
    "R3) Implemente o método de Gauss-Seidel para a solução de um sistema de equações lineares. Defina um critério de parada para o seu método, e explique-o. https://pt.wikipedia.org/wiki/M%C3%A9todo_de_Gauss-Seidel"
   ]
  },
  {
   "cell_type": "code",
   "execution_count": 120,
   "metadata": {
    "collapsed": false
   },
   "outputs": [
    {
     "name": "stdout",
     "output_type": "stream",
     "text": [
      "A:\n",
      "[[ 2.  1.]\n",
      " [ 5.  7.]]\n",
      "b:\n",
      "[ 11.  13.]\n",
      "x:\n",
      "[ 7.1111107  -3.22222193]\n",
      "||Ax-b||:\n",
      "5.3245767262e-07\n",
      "Numero de iteracoes:\n",
      "16\n"
     ]
    }
   ],
   "source": [
    "import numpy as np\n",
    "\n",
    "def gaussseidel(A,b,x0,N,TOL):\n",
    "\n",
    "    nlin = len(A); #num. de linhas\n",
    "    x = np.zeros(nlin); #cria x\n",
    "   \n",
    "    #iteracoes\n",
    "    k = 1;\n",
    "    while (k <= N):\n",
    "        #iteracao de Jacobi\n",
    "        for i in range(nlin):\n",
    "            s = 0.0;\n",
    "            for j in range(i):\n",
    "                s = s + A[i,j]*x[j]\n",
    "            for j in range(i+1,nlin):\n",
    "                s = s + A[i,j]*x0[j]\n",
    "            x[i] = (b[i] - s)/A[i,i]\n",
    "        #criterio de parada\n",
    "        if (np.linalg.norm(x-x0) < TOL):\n",
    "            return x,k\n",
    "        #prepara nova iteracao\n",
    "        k = k+1;\n",
    "        x0 = np.copy(x)\n",
    "    return x0,k\n",
    "\n",
    "\n",
    "A = np.matrix([[2.0,1.0],[5.0,7.0]])\n",
    "b = np.array([11.0,13.0])\n",
    "guess = np.array([1.0,1.0])\n",
    "\n",
    "sol,n = gaussseidel(A,b,guess,100,0.000001)\n",
    "\n",
    "print \"A:\"\n",
    "print(A)\n",
    "\n",
    "print \"b:\"\n",
    "print(b)\n",
    "\n",
    "print \"x:\"\n",
    "print(sol)\n",
    "\n",
    "print \"||Ax-b||:\"\n",
    "print(np.linalg.norm(A.dot(sol)-b))\n",
    "\n",
    "print \"Numero de iteracoes:\"\n",
    "print(n)\n"
   ]
  },
  {
   "cell_type": "code",
   "execution_count": 121,
   "metadata": {
    "collapsed": false
   },
   "outputs": [
    {
     "name": "stdout",
     "output_type": "stream",
     "text": [
      "10\n",
      "[[ 1.00000001]\n",
      " [ 2.        ]]\n",
      "[[1]\n",
      " [2]]\n"
     ]
    }
   ],
   "source": [
    "A = np.matrix([[4.,1.0],[1.0,3.]])\n",
    "b = np.matrix([[1],[2]])\n",
    "x0 = np.matrix([[2],[1]])\n",
    "e = np.matrix([[0.0001],[0.0001]])\n",
    "loop = 10\n",
    "x, k = GradienteConjugado(A, b, x0, e, loop)\n",
    "print k\n",
    "print np.dot(A, x)\n",
    "print b"
   ]
  },
  {
   "cell_type": "code",
   "execution_count": 124,
   "metadata": {
    "collapsed": false
   },
   "outputs": [],
   "source": [
    "def GradienteConjugado(A, b, x, e, loop):\n",
    "    n = len(b)\n",
    "    r = b - np.dot(A,x)\n",
    "    p = np.copy(r)\n",
    "    for k in range(loop):\n",
    "        rTr = np.transpose(r).dot(r)\n",
    "        pTAp = np.dot(np.transpose(p), np.dot(A, p))\n",
    "        alpha = rTr[0,0]/pTAp[0,0]\n",
    "        #print 'Alpha ',alpha\n",
    "        #print \n",
    "        x = x + alpha*p\n",
    "        #print 'X ',x\n",
    "        #print\n",
    "        rsnew = r - alpha*np.dot(A, p)\n",
    "        #print 'Rsnew ', rsnew\n",
    "        #print \n",
    "        if (b - np.dot(A, x)).all() < e.all():\n",
    "            break\n",
    "        beta = np.transpose(rsnew).dot(rsnew) / rTr\n",
    "        #print 'Beta ',beta\n",
    "        #print \n",
    "        p = rsnew + beta[0,0]*p \n",
    "        #print 'P ', p\n",
    "        #print \n",
    "        r = rsnew\n",
    "        p = np.copy(rsnew)\n",
    "    return x, k+1"
   ]
  },
  {
   "cell_type": "code",
   "execution_count": 125,
   "metadata": {
    "collapsed": false
   },
   "outputs": [
    {
     "name": "stdout",
     "output_type": "stream",
     "text": [
      "10\n",
      "[[ 1.00000001]\n",
      " [ 2.        ]]\n",
      "[[1]\n",
      " [2]]\n"
     ]
    }
   ],
   "source": [
    "A = np.matrix([[4.,1.0],[1.0,3.]])\n",
    "b = np.matrix([[1],[2]])\n",
    "x0 = np.matrix([[2],[1]])\n",
    "e = np.matrix([[0.0001],[0.0001]])\n",
    "loop = 10\n",
    "x, k = GradienteConjugado(A, b, x0, e, loop)\n",
    "print k\n",
    "print np.dot(A, x)\n",
    "print b"
   ]
  },
  {
   "cell_type": "code",
   "execution_count": null,
   "metadata": {
    "collapsed": false
   },
   "outputs": [],
   "source": []
  },
  {
   "cell_type": "code",
   "execution_count": null,
   "metadata": {
    "collapsed": false
   },
   "outputs": [],
   "source": []
  },
  {
   "cell_type": "code",
   "execution_count": null,
   "metadata": {
    "collapsed": false
   },
   "outputs": [],
   "source": []
  },
  {
   "cell_type": "code",
   "execution_count": null,
   "metadata": {
    "collapsed": true
   },
   "outputs": [],
   "source": []
  },
  {
   "cell_type": "code",
   "execution_count": 41,
   "metadata": {
    "collapsed": true
   },
   "outputs": [],
   "source": []
  },
  {
   "cell_type": "code",
   "execution_count": null,
   "metadata": {
    "collapsed": false
   },
   "outputs": [],
   "source": []
  },
  {
   "cell_type": "code",
   "execution_count": null,
   "metadata": {
    "collapsed": false
   },
   "outputs": [],
   "source": []
  },
  {
   "cell_type": "code",
   "execution_count": 122,
   "metadata": {
    "collapsed": false
   },
   "outputs": [],
   "source": []
  },
  {
   "cell_type": "code",
   "execution_count": null,
   "metadata": {
    "collapsed": false
   },
   "outputs": [],
   "source": []
  },
  {
   "cell_type": "code",
   "execution_count": null,
   "metadata": {
    "collapsed": true
   },
   "outputs": [],
   "source": []
  },
  {
   "cell_type": "code",
   "execution_count": null,
   "metadata": {
    "collapsed": true
   },
   "outputs": [],
   "source": []
  }
 ],
 "metadata": {
  "kernelspec": {
   "display_name": "Python 2",
   "language": "python",
   "name": "python2"
  },
  "language_info": {
   "codemirror_mode": {
    "name": "ipython",
    "version": 2
   },
   "file_extension": ".py",
   "mimetype": "text/x-python",
   "name": "python",
   "nbconvert_exporter": "python",
   "pygments_lexer": "ipython2",
   "version": "2.7.13"
  }
 },
 "nbformat": 4,
 "nbformat_minor": 0
}
